{
 "cells": [
  {
   "cell_type": "markdown",
   "metadata": {},
   "source": [
    "# Secrets\n",
    "This notebook is used to test code for working with the secrets directory and for generating SAS tokens when necessary. Some of this has or will be moved into the ooiod library in this repo."
   ]
  },
  {
   "cell_type": "markdown",
   "metadata": {},
   "source": [
    "## Load keys\n",
    "Most of this will eventually be moved into a library in this repo."
   ]
  },
  {
   "cell_type": "code",
   "execution_count": null,
   "metadata": {},
   "outputs": [],
   "source": [
    "import glob, os\n",
    "\n",
    "def get_keys(secrets_path):\n",
    "    secrets_path = os.path.abspath(secrets_path)\n",
    "    if os.path.isdir(secrets_path):\n",
    "        keys = dict()\n",
    "        for filename in glob.iglob(secrets_path + '/**', recursive=True):\n",
    "            if os.path.isfile(filename):\n",
    "                with open(filename, 'rb') as b:\n",
    "                    b.seek(1)\n",
    "                    if b.read(8) != b'GITCRYPT':\n",
    "                        b.seek(0,0)\n",
    "                        keys[filename.split('/')[-1]] = b.readline().strip().decode()\n",
    "        if len(keys) > 0:\n",
    "            return keys\n",
    "        else:\n",
    "            raise Exception('No keys found.')\n",
    "    else:\n",
    "        raise NameError('Secrets directory not found.')"
   ]
  },
  {
   "cell_type": "code",
   "execution_count": null,
   "metadata": {},
   "outputs": [],
   "source": [
    "keys = get_keys('../secrets')\n",
    "keys.keys()"
   ]
  },
  {
   "cell_type": "markdown",
   "metadata": {},
   "source": [
    "## Generate SAS token\n",
    "These blocks create a SAS token for a blob container in the ooiopendata storage account."
   ]
  },
  {
   "cell_type": "code",
   "execution_count": null,
   "metadata": {},
   "outputs": [],
   "source": [
    "from azure.storage.blob import BlockBlobService\n",
    "from azure.storage.blob.models import ContainerPermissions\n",
    "import datetime"
   ]
  },
  {
   "cell_type": "code",
   "execution_count": null,
   "metadata": {},
   "outputs": [],
   "source": [
    "ooiopendata_service = BlockBlobService('ooiopendata', keys['ooiopendata_account_key'])"
   ]
  },
  {
   "cell_type": "code",
   "execution_count": null,
   "metadata": {},
   "outputs": [],
   "source": [
    "container_sas = ooiopendata_service.generate_container_shared_access_signature('camhd', \n",
    "                ContainerPermissions.READ +\n",
    "                ContainerPermissions.WRITE +\n",
    "                ContainerPermissions.DELETE +\n",
    "                ContainerPermissions.LIST, \n",
    "                datetime.datetime.utcnow() + datetime.timedelta(days=1))"
   ]
  }
 ],
 "metadata": {
  "kernelspec": {
   "display_name": "Python 3",
   "language": "python",
   "name": "python3"
  },
  "language_info": {
   "codemirror_mode": {
    "name": "ipython",
    "version": 3
   },
   "file_extension": ".py",
   "mimetype": "text/x-python",
   "name": "python",
   "nbconvert_exporter": "python",
   "pygments_lexer": "ipython3",
   "version": "3.7.3"
  }
 },
 "nbformat": 4,
 "nbformat_minor": 2
}
