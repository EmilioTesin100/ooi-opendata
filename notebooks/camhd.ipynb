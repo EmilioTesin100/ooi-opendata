{
 "cells": [
  {
   "cell_type": "markdown",
   "metadata": {},
   "source": [
    "# CamHD Video File to Azure Blob with Dask"
   ]
  },
  {
   "cell_type": "code",
   "execution_count": null,
   "metadata": {},
   "outputs": [],
   "source": [
    "## inspect your database\n",
    "import pandas as pd\n",
    "# this option will show the full filename\n",
    "pd.set_option('display.max_colwidth', -1)\n",
    "dbcamhd = pd.read_json('/home/jovyan/floc_data/dbcamhd.json', orient=\"records\", lines=True).sort_values(by=['timestamp'])\n",
    "#dbcamhd.tail()"
   ]
  },
  {
   "cell_type": "code",
   "execution_count": null,
   "metadata": {},
   "outputs": [],
   "source": [
    "# lets make a small set to test with\n",
    "c = []\n",
    "url = []\n",
    "for i, row in dbcamhd[14400:14407].iterrows():\n",
    "    file = row.filename\n",
    "    c.append(file.split('/')[-1])\n",
    "    url.append(file)"
   ]
  },
  {
   "cell_type": "code",
   "execution_count": null,
   "metadata": {},
   "outputs": [],
   "source": [
    "# put the data in a dataframe\n",
    "short = pd.DataFrame({'file': c, 'urls': url})"
   ]
  },
  {
   "cell_type": "code",
   "execution_count": null,
   "metadata": {},
   "outputs": [],
   "source": [
    "# short"
   ]
  },
  {
   "cell_type": "markdown",
   "metadata": {},
   "source": [
    "#### Start a Dask cluster"
   ]
  },
  {
   "cell_type": "code",
   "execution_count": null,
   "metadata": {},
   "outputs": [],
   "source": [
    "#get yer dask going\n",
    "from dask_kubernetes import KubeCluster\n",
    "cluster = KubeCluster(n_workers=10)\n",
    "cluster"
   ]
  },
  {
   "cell_type": "code",
   "execution_count": null,
   "metadata": {},
   "outputs": [],
   "source": [
    "from dask.distributed import Client\n",
    "from dask import delayed\n",
    "import dask.array as dsa\n",
    "client = Client(cluster)\n",
    "client"
   ]
  },
  {
   "cell_type": "markdown",
   "metadata": {},
   "source": [
    "## Write a dict to try that with Dask"
   ]
  },
  {
   "cell_type": "code",
   "execution_count": null,
   "metadata": {},
   "outputs": [],
   "source": [
    "blob_names = short['file']\n",
    "address = short['urls']"
   ]
  },
  {
   "cell_type": "code",
   "execution_count": null,
   "metadata": {},
   "outputs": [],
   "source": [
    "# check that the lengths are equal\n",
    "print(len(blob_names))\n",
    "print(len(address))"
   ]
  },
  {
   "cell_type": "code",
   "execution_count": null,
   "metadata": {},
   "outputs": [],
   "source": [
    "#Trying dict comprehensions, because dataframes and lists are writing all downloads to the same file path... writing over the same file.\n",
    "copy_dict = dict(zip(address, blob_names))"
   ]
  },
  {
   "cell_type": "code",
   "execution_count": null,
   "metadata": {},
   "outputs": [],
   "source": [
    "# # import modules\n",
    "import azure.storage.blob as ASB\n",
    "import azure.storage.common\n",
    "import yaml"
   ]
  },
  {
   "cell_type": "code",
   "execution_count": null,
   "metadata": {},
   "outputs": [],
   "source": [
    "# load Azure storage account credentials\n",
    "with open('/home/jovyan/.azure_credentials_ooitest.yaml', 'r') as f:\n",
    "    credentials = yaml.load(f)\n",
    "azure_storage_account_name = credentials['azure_storage_account_name']\n",
    "azure_storage_account_key = credentials['azure_storage_account_key']"
   ]
  },
  {
   "cell_type": "code",
   "execution_count": null,
   "metadata": {},
   "outputs": [],
   "source": [
    "# setup azure function and change container name with each test\n",
    "block_blob_service = ASB.BlockBlobService(azure_storage_account_name, azure_storage_account_key)\n",
    "container_name ='batchtestthree'\n",
    "block_blob_service.create_container(container_name);"
   ]
  },
  {
   "cell_type": "markdown",
   "metadata": {},
   "source": [
    "## Copy file from URL to Microsoft Azure Blob Storage"
   ]
  },
  {
   "cell_type": "code",
   "execution_count": null,
   "metadata": {},
   "outputs": [],
   "source": [
    "#does not work, runs without workers\n",
    "# from dask import delayed, compute\n",
    "\n",
    "# @delayed\n",
    "# def delayed_mov_to_blob(blob_service, container_name, blob_name, url):\n",
    "#     block_blob_service.copy_blob(container_name, blob_name, url)\n",
    "#     return 0"
   ]
  },
  {
   "cell_type": "markdown",
   "metadata": {},
   "source": [
    "#### Set list of delayed functions"
   ]
  },
  {
   "cell_type": "code",
   "execution_count": null,
   "metadata": {},
   "outputs": [],
   "source": [
    "#does not work, runs without workers\n",
    "delayed_copy = []\n",
    "for i, row in short.iterrows():\n",
    "    url = row.urls\n",
    "    blob_name = row.file\n",
    "    delayed_copy.append(delayed_mov_to_blob(block_blob_service, container_name, blob_name, url))"
   ]
  },
  {
   "cell_type": "code",
   "execution_count": null,
   "metadata": {},
   "outputs": [],
   "source": [
    "delayed_copy[0]\n"
   ]
  },
  {
   "cell_type": "code",
   "execution_count": null,
   "metadata": {},
   "outputs": [],
   "source": [
    "%%time\n",
    "copy_across = compute(*delayed_copy)"
   ]
  },
  {
   "cell_type": "markdown",
   "metadata": {},
   "source": [
    "## Dask Dl Function"
   ]
  },
  {
   "cell_type": "code",
   "execution_count": null,
   "metadata": {},
   "outputs": [],
   "source": [
    "# #Here we will try to DL with Dask\n",
    "# ### the commands do not work but I would like it to!\n",
    "# # import requests\n",
    "# # import os\n",
    "# # import sys\n",
    "\n",
    "# @delayed\n",
    "# def delayed_copy_file():\n",
    "#     ## we use k and v here for key and value from our dictionary (copy_dict)\n",
    "#     for address,blob_names in copy_dict.items():\n",
    "#         # NOTE the stream=True parameter\n",
    "#         r = block_blob_service.copy_blob(container_name, blob_names, address)\n",
    "#         delayed_copy = delayed(r)\n",
    "#     delayed_copy_file = dsa.stack(delayed_copy)\n",
    "#     delayed_copy_file\n",
    "#     print(\"File\" , blob_names , \"created in\", container_name)"
   ]
  },
  {
   "cell_type": "code",
   "execution_count": null,
   "metadata": {},
   "outputs": [],
   "source": [
    "# delayed_copy_file(copy_dict)"
   ]
  },
  {
   "cell_type": "code",
   "execution_count": null,
   "metadata": {},
   "outputs": [],
   "source": [
    "# %%time\n",
    "# #does not work, runs without workers and does not write the individual blobs\n",
    "# results = delayed_copy_file.compute()"
   ]
  },
  {
   "cell_type": "code",
   "execution_count": null,
   "metadata": {},
   "outputs": [],
   "source": []
  },
  {
   "cell_type": "markdown",
   "metadata": {},
   "source": [
    "## Check size of containters & blobs to see if it worked"
   ]
  },
  {
   "cell_type": "code",
   "execution_count": null,
   "metadata": {},
   "outputs": [],
   "source": [
    "containers = block_blob_service.list_containers()\n",
    "for c in containers:\n",
    "        contName = c.name\n",
    "        generator = block_blob_service.list_blobs(contName)\n",
    "        contSize = 0\n",
    "        contNum = 0\n",
    "        for blob in generator: \n",
    "            contSize += blob.properties.content_length\n",
    "            contNum += 1\n",
    "        print(contName + \" : \" + str(contSize/1000000) + \" MB\" + \" in \" + str(contNum) + \" blobs\")"
   ]
  },
  {
   "cell_type": "markdown",
   "metadata": {},
   "source": [
    "## Clean up your space before you go home"
   ]
  },
  {
   "cell_type": "markdown",
   "metadata": {},
   "source": [
    "### clean up blobs"
   ]
  },
  {
   "cell_type": "code",
   "execution_count": null,
   "metadata": {},
   "outputs": [],
   "source": [
    "blob_list = block_blob_service.list_blobs(container_name)\n",
    "for blob in blob_list: \n",
    "    blob_name = blob.name\n",
    "    print(blob_name)"
   ]
  },
  {
   "cell_type": "code",
   "execution_count": null,
   "metadata": {},
   "outputs": [],
   "source": [
    "# # delete all blobs in container\n",
    "# blob = block_blob_service.list_blobs(container_name)\n",
    "# #for a in blob:\n",
    "#        #blob_service.delete_blob(container_name = container_name, blob_name = a.name)"
   ]
  },
  {
   "cell_type": "markdown",
   "metadata": {},
   "source": [
    "### clean up containers"
   ]
  },
  {
   "cell_type": "code",
   "execution_count": null,
   "metadata": {},
   "outputs": [],
   "source": [
    "# # #set container to delete\n",
    "container_name = 'batchtesttwo'"
   ]
  },
  {
   "cell_type": "code",
   "execution_count": null,
   "metadata": {},
   "outputs": [],
   "source": [
    "# # Clean up resources. This includes the container and the temp files.\n",
    "block_blob_service.delete_container(container_name)\n",
    "# # os.remove(full_path_to_file)\n",
    "# # os.remove(full_path_to_file2)"
   ]
  },
  {
   "cell_type": "code",
   "execution_count": null,
   "metadata": {},
   "outputs": [],
   "source": []
  },
  {
   "cell_type": "code",
   "execution_count": null,
   "metadata": {},
   "outputs": [],
   "source": []
  }
 ],
 "metadata": {
  "kernelspec": {
   "display_name": "Python 3",
   "language": "python",
   "name": "python3"
  },
  "language_info": {
   "codemirror_mode": {
    "name": "ipython",
    "version": 3
   },
   "file_extension": ".py",
   "mimetype": "text/x-python",
   "name": "python",
   "nbconvert_exporter": "python",
   "pygments_lexer": "ipython3",
   "version": "3.6.6"
  }
 },
 "nbformat": 4,
 "nbformat_minor": 2
}
