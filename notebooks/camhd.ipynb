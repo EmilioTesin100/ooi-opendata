{
 "cells": [
  {
   "cell_type": "markdown",
   "metadata": {},
   "source": [
    "# CamHD Video File to Azure Blob with Dask"
   ]
  },
  {
   "cell_type": "markdown",
   "metadata": {},
   "source": [
    "## Define your computation calling function"
   ]
  },
  {
   "cell_type": "code",
   "execution_count": null,
   "metadata": {},
   "outputs": [],
   "source": [
    "def copy_to_blob(blob_service, container_name, blob_name, url):\n",
    "    return blob_service.copy_blob(container_name, blob_name, url)"
   ]
  },
  {
   "cell_type": "markdown",
   "metadata": {},
   "source": [
    "## Start dask gathering workers"
   ]
  },
  {
   "cell_type": "code",
   "execution_count": null,
   "metadata": {},
   "outputs": [],
   "source": [
    "#get yer dask going\n",
    "from dask_kubernetes import KubeCluster\n",
    "cluster = KubeCluster(n_workers=10)\n",
    "cluster"
   ]
  },
  {
   "cell_type": "code",
   "execution_count": null,
   "metadata": {},
   "outputs": [],
   "source": [
    "from dask.distributed import Client\n",
    "from dask import delayed, compute\n",
    "# import dask.array as dsa\n",
    "client = Client(cluster)\n",
    "client"
   ]
  },
  {
   "cell_type": "markdown",
   "metadata": {},
   "source": [
    "## Import modules"
   ]
  },
  {
   "cell_type": "code",
   "execution_count": null,
   "metadata": {},
   "outputs": [],
   "source": [
    "import azure.storage.blob as ASB\n",
    "import azure.storage.common\n",
    "import yaml\n",
    "import dask\n",
    "import pandas as pd"
   ]
  },
  {
   "cell_type": "code",
   "execution_count": null,
   "metadata": {},
   "outputs": [],
   "source": [
    "# load Azure storage account credentials\n",
    "with open('/home/jovyan/.azure_credentials_ooitest.yaml', 'r') as f:\n",
    "    credentials = yaml.load(f)\n",
    "azure_storage_account_name = credentials['azure_storage_account_name']\n",
    "azure_storage_account_key = credentials['azure_storage_account_key']"
   ]
  },
  {
   "cell_type": "markdown",
   "metadata": {},
   "source": [
    "## Define the set of input parameters to call the function"
   ]
  },
  {
   "cell_type": "code",
   "execution_count": null,
   "metadata": {},
   "outputs": [],
   "source": [
    "## inspect your database\n",
    "# this option will show the full filename\n",
    "pd.set_option('display.max_colwidth', -1)\n",
    "dbcamhd = pd.read_json('/home/jovyan/floc_data/dbcamhd.json', orient=\"records\", lines=True).sort_values(by=['timestamp'])\n",
    "#dbcamhd.tail()"
   ]
  },
  {
   "cell_type": "code",
   "execution_count": null,
   "metadata": {},
   "outputs": [],
   "source": [
    "# we make a small from dbcamhd, because in my mind it's a layer of protection from copying 14000 blobs on accident\n",
    "short = dbcamhd[14400:14410]\n",
    "# the container name will often throw an error, so follow the rules\n",
    "container_name ='sattested'\n",
    "blob_service = ASB.BlockBlobService(azure_storage_account_name, azure_storage_account_key)\n",
    "blob_service.create_container(container_name);"
   ]
  },
  {
   "cell_type": "code",
   "execution_count": null,
   "metadata": {},
   "outputs": [],
   "source": [
    "#Use Dask Delayed to make our function lazy\n",
    "lazy_attempt = []\n",
    "for i, row in dbcamhd[14400:14407].iterrows():\n",
    "    url = row.filename\n",
    "    blob_name = (url.split('/')[-1]) \n",
    "    lazy_to_blob = dask.delayed(copy_to_blob)(blob_service, container_name, blob_name, url)\n",
    "    lazy_attempt.append(lazy_to_blob)"
   ]
  },
  {
   "cell_type": "code",
   "execution_count": null,
   "metadata": {},
   "outputs": [],
   "source": [
    "# did it do what we wanted?\n",
    "print(lazy_attempt)"
   ]
  },
  {
   "cell_type": "code",
   "execution_count": null,
   "metadata": {},
   "outputs": [],
   "source": [
    "## not the solution, this gives us the same problem\n",
    "# %time\n",
    "# results = dask.compute(*lazy_attempt)\n",
    "# results"
   ]
  },
  {
   "cell_type": "code",
   "execution_count": null,
   "metadata": {},
   "outputs": [],
   "source": []
  },
  {
   "cell_type": "markdown",
   "metadata": {},
   "source": [
    "## Check size of containters & blobs to see if it worked"
   ]
  },
  {
   "cell_type": "code",
   "execution_count": null,
   "metadata": {},
   "outputs": [],
   "source": [
    "containers = block_blob_service.list_containers()\n",
    "for c in containers:\n",
    "        contName = c.name\n",
    "        generator = block_blob_service.list_blobs(contName)\n",
    "        contSize = 0\n",
    "        contNum = 0\n",
    "        for blob in generator: \n",
    "            contSize += blob.properties.content_length\n",
    "            contNum += 1\n",
    "        print(contName + \" : \" + str(contSize/1000000) + \" MB\" + \" in \" + str(contNum) + \" blobs\")"
   ]
  },
  {
   "cell_type": "markdown",
   "metadata": {},
   "source": [
    "## Clean up your space before you go home"
   ]
  },
  {
   "cell_type": "markdown",
   "metadata": {},
   "source": [
    "### clean up blobs"
   ]
  },
  {
   "cell_type": "code",
   "execution_count": null,
   "metadata": {},
   "outputs": [],
   "source": [
    "blob_list = block_blob_service.list_blobs(container_name)\n",
    "for blob in blob_list: \n",
    "    blob_name = blob.name\n",
    "    print(blob_name)"
   ]
  },
  {
   "cell_type": "code",
   "execution_count": null,
   "metadata": {},
   "outputs": [],
   "source": [
    "# # delete all blobs in container\n",
    "# blob = block_blob_service.list_blobs(container_name)\n",
    "# #for a in blob:\n",
    "#        #blob_service.delete_blob(container_name = container_name, blob_name = a.name)"
   ]
  },
  {
   "cell_type": "markdown",
   "metadata": {},
   "source": [
    "### clean up containers"
   ]
  },
  {
   "cell_type": "code",
   "execution_count": null,
   "metadata": {},
   "outputs": [],
   "source": [
    "# # #set container to delete\n",
    "container_name = 'sattested'"
   ]
  },
  {
   "cell_type": "code",
   "execution_count": null,
   "metadata": {},
   "outputs": [],
   "source": [
    "# # Clean up resources. This includes the container and the temp files.\n",
    "block_blob_service.delete_container(container_name)\n",
    "# # os.remove(full_path_to_file)\n",
    "# # os.remove(full_path_to_file2)"
   ]
  }
 ],
 "metadata": {
  "kernelspec": {
   "display_name": "Python 3",
   "language": "python",
   "name": "python3"
  },
  "language_info": {
   "codemirror_mode": {
    "name": "ipython",
    "version": 3
   },
   "file_extension": ".py",
   "mimetype": "text/x-python",
   "name": "python",
   "nbconvert_exporter": "python",
   "pygments_lexer": "ipython3",
   "version": "3.6.6"
  }
 },
 "nbformat": 4,
 "nbformat_minor": 2
}
